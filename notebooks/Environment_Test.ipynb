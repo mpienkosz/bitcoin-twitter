{
 "cells": [
  {
   "cell_type": "markdown",
   "metadata": {},
   "source": [
    "## Environment Test\n",
    "\n",
    "Please execute this notebook to check whether your python environment is configured correctly "
   ]
  },
  {
   "cell_type": "code",
   "execution_count": null,
   "metadata": {
    "scrolled": true
   },
   "outputs": [],
   "source": [
    "\n",
    "import unittest\n",
    "\n",
    "import numpy as np\n",
    "from tensorflow.python.keras.models import Sequential\n",
    "from tensorflow.python.keras.layers import Dense, Activation\n",
    "from tensorflow.python.keras.optimizers import Adam\n",
    "\n",
    "class EnvironmentTest(unittest.TestCase):\n",
    "\n",
    "    def test_toy_model(self):\n",
    "        x_test = np.array([[-0.1, 0.2], [0.3, -0.4]])\n",
    "        y_test = np.array([1, 0])\n",
    "        print(\"Building toy keras model and training...\")\n",
    "        model = EnvironmentTest.build_toy_model()\n",
    "        model.fit(x_test, y_test, epochs=10, verbose=0)\n",
    "        _, acc = model.evaluate(x_test, y_test)\n",
    "        acc = acc * 100\n",
    "        print('Toy model accuracy: {:.1f}%'.format(acc))\n",
    "        self.assertEqual(acc, 100, \"Invalid model accuracy\")\n",
    "\n",
    "    @staticmethod\n",
    "    def build_toy_model():\n",
    "        model = Sequential()\n",
    "        model.add(Dense(1, input_shape=(2,)))\n",
    "        model.add(Activation('sigmoid'))\n",
    "        model.compile(loss='binary_crossentropy', optimizer=Adam(lr=0.1), metrics=['accuracy'])\n",
    "        return model\n",
    "\n",
    "        \n",
    "test_loader = unittest.TestLoader()\n",
    "test_runner = unittest.TextTestRunner()\n",
    "environment_test = test_loader.loadTestsFromTestCase(EnvironmentTest)\n",
    "test_runner.run(environment_test)\n"
   ]
  },
  {
   "cell_type": "code",
   "execution_count": null,
   "metadata": {},
   "outputs": [],
   "source": []
  }
 ],
 "metadata": {
  "kernelspec": {
   "display_name": "Python 3",
   "language": "python",
   "name": "python3"
  },
  "language_info": {
   "codemirror_mode": {
    "name": "ipython",
    "version": 3
   },
   "file_extension": ".py",
   "mimetype": "text/x-python",
   "name": "python",
   "nbconvert_exporter": "python",
   "pygments_lexer": "ipython3",
   "version": "3.5.3"
  }
 },
 "nbformat": 4,
 "nbformat_minor": 2
}
